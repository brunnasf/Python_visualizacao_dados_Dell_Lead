{
 "cells": [
  {
   "cell_type": "code",
   "execution_count": 1,
   "id": "cf821300",
   "metadata": {},
   "outputs": [
    {
     "name": "stdout",
     "output_type": "stream",
     "text": [
      "Digite o seu nome:Brunna\n"
     ]
    }
   ],
   "source": [
    "nome = input('Digite o seu nome:')"
   ]
  },
  {
   "cell_type": "code",
   "execution_count": 2,
   "id": "2be21af0",
   "metadata": {},
   "outputs": [
    {
     "name": "stdout",
     "output_type": "stream",
     "text": [
      "Brunna\n"
     ]
    }
   ],
   "source": [
    "print(nome)"
   ]
  },
  {
   "cell_type": "code",
   "execution_count": 3,
   "id": "b212fa2e",
   "metadata": {},
   "outputs": [
    {
     "name": "stdout",
     "output_type": "stream",
     "text": [
      "Qual o seu peso?55.60\n"
     ]
    }
   ],
   "source": [
    "peso_float = float(input('Qual o seu peso?'))"
   ]
  },
  {
   "cell_type": "code",
   "execution_count": 4,
   "id": "6a6f5100",
   "metadata": {},
   "outputs": [
    {
     "name": "stdout",
     "output_type": "stream",
     "text": [
      "55.6\n"
     ]
    }
   ],
   "source": [
    "print(peso_float)"
   ]
  },
  {
   "cell_type": "code",
   "execution_count": 5,
   "id": "141e0f79",
   "metadata": {
    "scrolled": false
   },
   "outputs": [
    {
     "name": "stdout",
     "output_type": "stream",
     "text": [
      "Qual a sua altura?1.56\n"
     ]
    }
   ],
   "source": [
    "altura_float = float(input('Qual a sua altura?'))"
   ]
  },
  {
   "cell_type": "code",
   "execution_count": 6,
   "id": "893cb83f",
   "metadata": {},
   "outputs": [
    {
     "name": "stdout",
     "output_type": "stream",
     "text": [
      "1.56\n"
     ]
    }
   ],
   "source": [
    "print(altura_float)"
   ]
  },
  {
   "cell_type": "code",
   "execution_count": 7,
   "id": "1599e567",
   "metadata": {},
   "outputs": [
    {
     "name": "stdout",
     "output_type": "stream",
     "text": [
      "2.4336\n"
     ]
    }
   ],
   "source": [
    "altura_ao_quadrado = print (altura_float * altura_float)"
   ]
  },
  {
   "cell_type": "code",
   "execution_count": 8,
   "id": "a7a815a1",
   "metadata": {},
   "outputs": [
    {
     "name": "stdout",
     "output_type": "stream",
     "text": [
      "22.846811308349768\n"
     ]
    }
   ],
   "source": [
    "imc = print (peso_float/(altura_float * altura_float))"
   ]
  },
  {
   "cell_type": "markdown",
   "id": "1b0cf38b",
   "metadata": {},
   "source": [
    "Conversão da variável float para str:"
   ]
  },
  {
   "cell_type": "code",
   "execution_count": 9,
   "id": "7bc707d2",
   "metadata": {},
   "outputs": [
    {
     "data": {
      "text/plain": [
       "'55.6'"
      ]
     },
     "execution_count": 9,
     "metadata": {},
     "output_type": "execute_result"
    }
   ],
   "source": [
    "str (peso_float)"
   ]
  },
  {
   "cell_type": "code",
   "execution_count": 10,
   "id": "345133a7",
   "metadata": {},
   "outputs": [
    {
     "data": {
      "text/plain": [
       "'1.56'"
      ]
     },
     "execution_count": 10,
     "metadata": {},
     "output_type": "execute_result"
    }
   ],
   "source": [
    "str (altura_float)"
   ]
  },
  {
   "cell_type": "code",
   "execution_count": null,
   "id": "5a539186",
   "metadata": {},
   "outputs": [],
   "source": []
  }
 ],
 "metadata": {
  "kernelspec": {
   "display_name": "Python 3",
   "language": "python",
   "name": "python3"
  },
  "language_info": {
   "codemirror_mode": {
    "name": "ipython",
    "version": 3
   },
   "file_extension": ".py",
   "mimetype": "text/x-python",
   "name": "python",
   "nbconvert_exporter": "python",
   "pygments_lexer": "ipython3",
   "version": "3.8.8"
  }
 },
 "nbformat": 4,
 "nbformat_minor": 5
}
