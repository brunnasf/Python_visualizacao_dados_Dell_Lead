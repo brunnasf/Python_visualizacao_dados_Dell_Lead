{
 "cells": [
  {
   "cell_type": "code",
   "execution_count": 1,
   "id": "90339d1b",
   "metadata": {},
   "outputs": [],
   "source": [
    "cursos = ['Engenharia de Software','Python para Data Science','Introdução a Java']"
   ]
  },
  {
   "cell_type": "markdown",
   "id": "ec47807b",
   "metadata": {},
   "source": [
    "Engenharia de Software = 0\n",
    "\n",
    "Python para Data Science = 1\n",
    "\n",
    "Introdução a Java = 2"
   ]
  },
  {
   "cell_type": "code",
   "execution_count": 2,
   "id": "648f3bd0",
   "metadata": {},
   "outputs": [],
   "source": [
    "respostas = [1, 2, 0, 1, 1, 1, 1, 0, 0, 2, 2, 0, 1, 1,\n",
    "  1, 1, 2, 0, 1, 1, 0, 1, 0, 2, 1, 1, 0, 2,\n",
    "  2, 1, 0, 1, 1, 0, 0, 0, 1, 1, 2, 1\n",
    "]"
   ]
  },
  {
   "cell_type": "markdown",
   "id": "735b496b",
   "metadata": {},
   "source": [
    "**RESULTADO DA PESQUISA:**"
   ]
  },
  {
   "cell_type": "code",
   "execution_count": 3,
   "id": "223a877e",
   "metadata": {},
   "outputs": [],
   "source": [
    "total = len(respostas)"
   ]
  },
  {
   "cell_type": "code",
   "execution_count": 4,
   "id": "68e73857",
   "metadata": {},
   "outputs": [
    {
     "name": "stdout",
     "output_type": "stream",
     "text": [
      "40\n"
     ]
    }
   ],
   "source": [
    "print(total)"
   ]
  },
  {
   "cell_type": "code",
   "execution_count": 5,
   "id": "3c664985",
   "metadata": {},
   "outputs": [],
   "source": [
    "engenharia_software = respostas.count(0)"
   ]
  },
  {
   "cell_type": "code",
   "execution_count": 6,
   "id": "42f87cea",
   "metadata": {},
   "outputs": [
    {
     "name": "stdout",
     "output_type": "stream",
     "text": [
      "12\n"
     ]
    }
   ],
   "source": [
    "print(engenharia_software)"
   ]
  },
  {
   "cell_type": "code",
   "execution_count": 7,
   "id": "c4dce77c",
   "metadata": {},
   "outputs": [],
   "source": [
    "percentual_engenharia_software= engenharia_software/total"
   ]
  },
  {
   "cell_type": "code",
   "execution_count": 8,
   "id": "41329396",
   "metadata": {},
   "outputs": [
    {
     "name": "stdout",
     "output_type": "stream",
     "text": [
      "0.3\n"
     ]
    }
   ],
   "source": [
    "print(percentual_engenharia_software)"
   ]
  },
  {
   "cell_type": "code",
   "execution_count": 9,
   "id": "6d1327a9",
   "metadata": {},
   "outputs": [],
   "source": [
    "python_datascience = respostas.count(1)"
   ]
  },
  {
   "cell_type": "code",
   "execution_count": 10,
   "id": "d86af704",
   "metadata": {},
   "outputs": [
    {
     "name": "stdout",
     "output_type": "stream",
     "text": [
      "20\n"
     ]
    }
   ],
   "source": [
    "print(python_datascience)"
   ]
  },
  {
   "cell_type": "code",
   "execution_count": 11,
   "id": "6cf228cc",
   "metadata": {},
   "outputs": [],
   "source": [
    "percentual_python_datascience = python_datascience/total"
   ]
  },
  {
   "cell_type": "code",
   "execution_count": 12,
   "id": "215d0710",
   "metadata": {},
   "outputs": [
    {
     "name": "stdout",
     "output_type": "stream",
     "text": [
      "0.5\n"
     ]
    }
   ],
   "source": [
    "print(percentual_python_datascience)"
   ]
  },
  {
   "cell_type": "code",
   "execution_count": 13,
   "id": "acd87603",
   "metadata": {},
   "outputs": [],
   "source": [
    "introducao_java = respostas.count(2)"
   ]
  },
  {
   "cell_type": "code",
   "execution_count": 14,
   "id": "024eb8a9",
   "metadata": {},
   "outputs": [
    {
     "name": "stdout",
     "output_type": "stream",
     "text": [
      "8\n"
     ]
    }
   ],
   "source": [
    "print(introducao_java)"
   ]
  },
  {
   "cell_type": "code",
   "execution_count": 15,
   "id": "f7841d15",
   "metadata": {},
   "outputs": [],
   "source": [
    "percentual_introducao_java = introducao_java/total"
   ]
  },
  {
   "cell_type": "code",
   "execution_count": 16,
   "id": "128cabeb",
   "metadata": {},
   "outputs": [
    {
     "name": "stdout",
     "output_type": "stream",
     "text": [
      "0.2\n"
     ]
    }
   ],
   "source": [
    "print(percentual_introducao_java)"
   ]
  },
  {
   "cell_type": "markdown",
   "id": "8649d403",
   "metadata": {},
   "source": [
    "**CURSO ESCOLHIDO PELA VOTAÇÃO:**"
   ]
  },
  {
   "cell_type": "code",
   "execution_count": 17,
   "id": "9aa2cd27",
   "metadata": {},
   "outputs": [
    {
     "name": "stdout",
     "output_type": "stream",
     "text": [
      "python_datascience foi o curso escolhido com maior votação com: 20 votos\n"
     ]
    }
   ],
   "source": [
    "print(max(\"engenharia_software\",\"python_datascience\",\"introducao_java\"), \"foi o curso escolhido com maior votação com:\", python_datascience, \"votos\")"
   ]
  },
  {
   "cell_type": "code",
   "execution_count": null,
   "id": "5a9106f9",
   "metadata": {},
   "outputs": [],
   "source": []
  }
 ],
 "metadata": {
  "kernelspec": {
   "display_name": "Python 3",
   "language": "python",
   "name": "python3"
  },
  "language_info": {
   "codemirror_mode": {
    "name": "ipython",
    "version": 3
   },
   "file_extension": ".py",
   "mimetype": "text/x-python",
   "name": "python",
   "nbconvert_exporter": "python",
   "pygments_lexer": "ipython3",
   "version": "3.8.8"
  }
 },
 "nbformat": 4,
 "nbformat_minor": 5
}
