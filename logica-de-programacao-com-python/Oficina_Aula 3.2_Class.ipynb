{
 "cells": [
  {
   "cell_type": "markdown",
   "id": "be3c02be",
   "metadata": {},
   "source": [
    "Olá, professora!\n",
    "No exemplo abaixo apliquei o conteúdo estudado na lição 3.2"
   ]
  },
  {
   "cell_type": "markdown",
   "id": "51134e0f",
   "metadata": {},
   "source": [
    "Realizei uma classe chamada Animal, que tem como atributos o nome e o nível de fome do Tamagoshi.\n",
    "\n",
    "Foi definido o método para inicializar os atributos, depois imprimi-los e posteriormente apresentar uma mensagem mencionando o nível de fome dos Tamagoshis, para saber se eles precisam se alimentar ou não."
   ]
  },
  {
   "cell_type": "code",
   "execution_count": 1,
   "id": "51a3e61d",
   "metadata": {},
   "outputs": [
    {
     "name": "stdout",
     "output_type": "stream",
     "text": [
      "Animal juju\n",
      "Fome 7\n",
      "O Tamagoshi precisa comer\n",
      "Animal bob\n",
      "Fome 0\n",
      "O Tamagoshi está satisfeito e não precisa comer\n"
     ]
    }
   ],
   "source": [
    "class Animal:\n",
    "    \n",
    "    def __init__(self,nome,fome):\n",
    "        self.nome = nome\n",
    "        self.fome = fome\n",
    "    \n",
    "    def imprimir (self):\n",
    "        print('Animal', self.nome)\n",
    "        print('Fome', self.fome)\n",
    "       \n",
    "    \n",
    "    def comer (self):\n",
    "        if self.fome > 0:\n",
    "            print('O Tamagoshi precisa comer')\n",
    "        else:\n",
    "            print('O Tamagoshi está satisfeito e não precisa comer')\n",
    "            \n",
    "animal1 = Animal ('juju', 7)\n",
    "animal2 = Animal ('bob', 0)\n",
    "\n",
    "animal1.imprimir()\n",
    "animal1.comer()\n",
    "\n",
    "animal2.imprimir()\n",
    "animal2.comer()\n",
    "                "
   ]
  },
  {
   "cell_type": "code",
   "execution_count": null,
   "id": "5652a95d",
   "metadata": {},
   "outputs": [],
   "source": []
  }
 ],
 "metadata": {
  "kernelspec": {
   "display_name": "Python 3",
   "language": "python",
   "name": "python3"
  },
  "language_info": {
   "codemirror_mode": {
    "name": "ipython",
    "version": 3
   },
   "file_extension": ".py",
   "mimetype": "text/x-python",
   "name": "python",
   "nbconvert_exporter": "python",
   "pygments_lexer": "ipython3",
   "version": "3.8.8"
  }
 },
 "nbformat": 4,
 "nbformat_minor": 5
}
