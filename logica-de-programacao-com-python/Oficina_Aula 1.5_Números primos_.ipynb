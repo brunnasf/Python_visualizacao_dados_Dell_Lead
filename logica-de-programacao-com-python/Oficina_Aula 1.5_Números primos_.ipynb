{
 "cells": [
  {
   "cell_type": "code",
   "execution_count": 34,
   "id": "4da70b7d",
   "metadata": {},
   "outputs": [
    {
     "name": "stdout",
     "output_type": "stream",
     "text": [
      "Digite um número inteiro positivo qualquer entre 2 a 100: 5\n"
     ]
    }
   ],
   "source": [
    "n = int(input(\"Digite um número inteiro positivo qualquer entre 2 a 100: \"))"
   ]
  },
  {
   "cell_type": "code",
   "execution_count": 35,
   "id": "9ed28216",
   "metadata": {},
   "outputs": [
    {
     "name": "stdout",
     "output_type": "stream",
     "text": [
      "2 é um número primo\n",
      "3 é um número primo\n",
      "5 é um número primo\n",
      "7 é um número primo\n",
      "11 é um número primo\n",
      "13 é um número primo\n",
      "17 é um número primo\n",
      "19 é um número primo\n",
      "23 é um número primo\n",
      "29 é um número primo\n",
      "31 é um número primo\n",
      "37 é um número primo\n",
      "41 é um número primo\n",
      "43 é um número primo\n",
      "47 é um número primo\n",
      "53 é um número primo\n",
      "59 é um número primo\n",
      "61 é um número primo\n",
      "67 é um número primo\n",
      "71 é um número primo\n",
      "73 é um número primo\n",
      "79 é um número primo\n",
      "83 é um número primo\n",
      "89 é um número primo\n",
      "97 é um número primo\n"
     ]
    }
   ],
   "source": [
    "if n > 0:\n",
    "    #print(\"correto\")\n",
    "    \n",
    "    for i in range (2,100): #chama a variável e busca no intervalo. Irei comprovar se i é primo ou não.\n",
    "        divisor = 2 #é o contador e começa com 2\n",
    "        primo = True #entendendo que todos os números são primos até que se verifique que não são.\n",
    "        while primo == True and divisor < i:\n",
    "            if i % divisor == 0:\n",
    "                primo = False\n",
    "            else: divisor += 1\n",
    "        if primo:\n",
    "            print (i, \"é um número primo\")\n",
    "        \n",
    "else:\n",
    "    print(\"o número digitado não é correto\")"
   ]
  },
  {
   "cell_type": "code",
   "execution_count": null,
   "id": "d9ef751f",
   "metadata": {},
   "outputs": [],
   "source": []
  }
 ],
 "metadata": {
  "kernelspec": {
   "display_name": "Python 3",
   "language": "python",
   "name": "python3"
  },
  "language_info": {
   "codemirror_mode": {
    "name": "ipython",
    "version": 3
   },
   "file_extension": ".py",
   "mimetype": "text/x-python",
   "name": "python",
   "nbconvert_exporter": "python",
   "pygments_lexer": "ipython3",
   "version": "3.8.8"
  }
 },
 "nbformat": 4,
 "nbformat_minor": 5
}
