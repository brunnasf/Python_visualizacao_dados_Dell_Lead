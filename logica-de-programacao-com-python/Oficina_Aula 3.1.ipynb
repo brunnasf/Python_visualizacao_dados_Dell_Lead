{
 "cells": [
  {
   "cell_type": "markdown",
   "id": "5122f394",
   "metadata": {},
   "source": [
    "**Os eventos são representados por tuplas, confira:**\n",
    "\n",
    "● O primeiro elemento é uma tupla de três números: ano, mês e dia;\n",
    "\n",
    "● O segundo elemento é uma tupla de dois números: hora e minuto;\n",
    "\n",
    "● O terceiro elemento é uma string que descreve brevemente o evento."
   ]
  },
  {
   "cell_type": "code",
   "execution_count": 1,
   "id": "d9e4e67e",
   "metadata": {},
   "outputs": [],
   "source": [
    "agenda = [\n",
    "\n",
    "    ((2020, 1, 13), (11, 50), 'Renovar identidade'),\n",
    "    \n",
    "    ((2020, 1, 13), (16, 30), 'Fazer compras'),\n",
    "    \n",
    "    ((2020, 1, 25), (8, 45), 'Autenticar documentos'),\n",
    "    \n",
    "    ((2020, 2, 29), (14, 15), 'Prestar concurso'),\n",
    "    \n",
    "    ((2020, 3, 15), (17, 50), 'Buscar bolo pro aniversário da vovó'),\n",
    "    \n",
    "    ((2020, 3, 17), (13, 20), 'Consulta de revisão com dentista'),    \n",
    "]\n"
   ]
  },
  {
   "cell_type": "markdown",
   "id": "10731e9c",
   "metadata": {},
   "source": [
    "**Manipulando as datas e as horas:**"
   ]
  },
  {
   "cell_type": "code",
   "execution_count": 2,
   "id": "e91fde10",
   "metadata": {},
   "outputs": [],
   "source": [
    "import datetime\n",
    "\n",
    "datahora1 = datetime.datetime(2020, 1, 13, 11, 50) \n",
    "datahora2 = datetime.datetime (2020, 1, 13, 16, 30)\n",
    "datahora3 = datetime.datetime (2020, 1, 25, 8, 45)\n",
    "datahora4 = datetime.datetime (2020, 2, 29, 14, 15)\n",
    "datahora5 = datetime.datetime (2020, 3, 15, 17, 50)\n",
    "datahora6 = datetime.datetime (2020, 3, 17, 13, 20)\n",
    "\n",
    "atividade1 = \"Renovar identidade\"\n",
    "atividade2 = \"Fazer compras\"\n",
    "atividade3 = \"Autenticar documentos\"\n",
    "atividade4 = \"Prestar concurso\"\n",
    "atividade5 = \"Buscar bolo pro aniversário da vovó\"\n",
    "atividade6 = \"Consulta de revisão com dentista\""
   ]
  },
  {
   "cell_type": "code",
   "execution_count": 3,
   "id": "3a21a817",
   "metadata": {},
   "outputs": [
    {
     "name": "stdout",
     "output_type": "stream",
     "text": [
      "2020-01-13 11:50:00 Renovar identidade\n",
      "2020-01-13 16:30:00 Fazer compras\n",
      "2020-01-25 08:45:00 Autenticar documentos\n",
      "2020-02-29 14:15:00 Prestar concurso\n",
      "2020-03-15 17:50:00 Buscar bolo pro aniversário da vovó\n",
      "2020-03-17 13:20:00 Consulta de revisão com dentista\n"
     ]
    }
   ],
   "source": [
    "print(datahora1, atividade1)\n",
    "print(datahora2, atividade2)\n",
    "print(datahora3, atividade3)\n",
    "print(datahora4, atividade4)\n",
    "print(datahora5, atividade5)\n",
    "print(datahora6, atividade6)"
   ]
  },
  {
   "cell_type": "code",
   "execution_count": null,
   "id": "0329fb44",
   "metadata": {},
   "outputs": [],
   "source": []
  }
 ],
 "metadata": {
  "kernelspec": {
   "display_name": "Python 3",
   "language": "python",
   "name": "python3"
  },
  "language_info": {
   "codemirror_mode": {
    "name": "ipython",
    "version": 3
   },
   "file_extension": ".py",
   "mimetype": "text/x-python",
   "name": "python",
   "nbconvert_exporter": "python",
   "pygments_lexer": "ipython3",
   "version": "3.8.8"
  }
 },
 "nbformat": 4,
 "nbformat_minor": 5
}
