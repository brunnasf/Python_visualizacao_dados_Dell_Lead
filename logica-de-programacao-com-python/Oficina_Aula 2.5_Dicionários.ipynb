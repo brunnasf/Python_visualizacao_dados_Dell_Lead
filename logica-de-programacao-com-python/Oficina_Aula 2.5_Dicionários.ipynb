{
 "cells": [
  {
   "cell_type": "markdown",
   "id": "ad7ea0a7",
   "metadata": {},
   "source": [
    "**# Na atividade abaixo utilizei conceitos do assunto Dicionários, que foram estudados na aula 2.5 e simulei uma forma de gerenciar o cadastro de livros de uma livraria fictícia.**"
   ]
  },
  {
   "cell_type": "markdown",
   "id": "713350c7",
   "metadata": {},
   "source": [
    "**Dados dos livros da livraria Boa Leitura:**"
   ]
  },
  {
   "cell_type": "code",
   "execution_count": 5,
   "id": "2e10d56d",
   "metadata": {},
   "outputs": [],
   "source": [
    "livros = {}\n",
    "\n",
    "livros ['livro 1'] = {'nome': 'Livro one', 'gênero': 'drama', 'subgênero': 'viagem', 'valor': '40 reais', 'editora': 'cinco estrelas', 'número de cópias': '5'}\n",
    "livros ['livro 2'] = {'nome': 'Livro two', 'gênero': 'romance', 'subgênero': 'viagem', 'valor': '60 reais', 'editora': 'quatro estrelas', 'número de cópias': '7'}"
   ]
  },
  {
   "cell_type": "code",
   "execution_count": 6,
   "id": "9c33ac5b",
   "metadata": {},
   "outputs": [
    {
     "name": "stdout",
     "output_type": "stream",
     "text": [
      "Dados do livro 1:\n",
      "nome-----Livro one\n",
      "gênero-----drama\n",
      "subgênero-----viagem\n",
      "valor-----40 reais\n",
      "editora-----cinco estrelas\n",
      "número de cópias-----5\n",
      "\n",
      "Dados do livro 2:\n",
      "nome-----Livro two\n",
      "gênero-----romance\n",
      "subgênero-----viagem\n",
      "valor-----60 reais\n",
      "editora-----quatro estrelas\n",
      "número de cópias-----7\n",
      "\n"
     ]
    }
   ],
   "source": [
    "for livro, dados in livros.items():\n",
    "    print('Dados do {}:'.format(livro))\n",
    "    for chave, dados in dados.items():\n",
    "        print ('{}-----{}'.format(chave, dados))\n",
    "    print ('')"
   ]
  },
  {
   "cell_type": "code",
   "execution_count": null,
   "id": "3402d0ca",
   "metadata": {},
   "outputs": [],
   "source": []
  }
 ],
 "metadata": {
  "kernelspec": {
   "display_name": "Python 3",
   "language": "python",
   "name": "python3"
  },
  "language_info": {
   "codemirror_mode": {
    "name": "ipython",
    "version": 3
   },
   "file_extension": ".py",
   "mimetype": "text/x-python",
   "name": "python",
   "nbconvert_exporter": "python",
   "pygments_lexer": "ipython3",
   "version": "3.8.8"
  }
 },
 "nbformat": 4,
 "nbformat_minor": 5
}
