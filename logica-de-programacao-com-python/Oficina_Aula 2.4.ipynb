{
 "cells": [
  {
   "cell_type": "code",
   "execution_count": 1,
   "id": "fb71cd3a",
   "metadata": {},
   "outputs": [],
   "source": [
    "presentes = {\n",
    "    'cadeira', 'cafeteira', 'caneca', 'escumadeira',\n",
    "    'espanador', 'espátula', 'estante', 'faqueiro',\n",
    "    'frigideira', 'funil', 'halter', 'liquidificador',\n",
    "    'notebook', 'panela', 'peneira', 'playstation',\n",
    "    'rádio', 'smartphone', 'sofá', 'tablet', 'teclado',\n",
    "    'televisão', 'vassoura', 'webcam', 'xbox',\n",
    "}"
   ]
  },
  {
   "cell_type": "code",
   "execution_count": 2,
   "id": "4f2b1dca",
   "metadata": {},
   "outputs": [],
   "source": [
    "loja1 = {\n",
    "    'cadeira', 'cafeteira', 'caneca', 'escumadeira', 'estante',\n",
    "    'frigideira', 'funil', 'liquidificador', 'notebook', 'panela',\n",
    "    'playstation', 'smartphone', 'teclado', 'televisão'}"
   ]
  },
  {
   "cell_type": "code",
   "execution_count": 3,
   "id": "2d8dba33",
   "metadata": {},
   "outputs": [],
   "source": [
    "loja2 = {\n",
    "    'cafeteira', 'escumadeira', 'espanador', 'frigideira', 'funil',\n",
    "    'halter', 'peneira', 'playstation', 'sofá', 'tablet', 'televisão',\n",
    "    'vassoura', 'webcam', 'xbox'}"
   ]
  },
  {
   "cell_type": "code",
   "execution_count": 4,
   "id": "53b3b5f1",
   "metadata": {},
   "outputs": [],
   "source": [
    "loja3 = {\n",
    "    'caneca', 'escumadeira', 'espanador', 'espátula', 'estante',\n",
    "    'frigideira', 'halter', 'playstation', 'rádio', 'smartphone',\n",
    "    'sofá', 'teclado', 'televisão', 'vassoura', 'xbox'}"
   ]
  },
  {
   "cell_type": "code",
   "execution_count": 5,
   "id": "7ff6d0b0",
   "metadata": {},
   "outputs": [],
   "source": [
    "loja4 = {\n",
    "    'caneca', 'escumadeira', 'espanador', 'espátula', 'estante',\n",
    "    'frigideira', 'halter', 'playstation', 'rádio', 'smartphone',\n",
    "    'sofá', 'teclado', 'televisão', 'vassoura', 'xbox'}"
   ]
  },
  {
   "cell_type": "markdown",
   "id": "6c8fe930",
   "metadata": {},
   "source": [
    "**1) Quais produtos são oferecidos em ao menos uma loja?** "
   ]
  },
  {
   "cell_type": "code",
   "execution_count": 6,
   "id": "1a465ae9",
   "metadata": {},
   "outputs": [],
   "source": [
    "união = sorted(loja1.union(loja2).union(loja3).union(loja4))"
   ]
  },
  {
   "cell_type": "code",
   "execution_count": 7,
   "id": "64951aa3",
   "metadata": {},
   "outputs": [
    {
     "name": "stdout",
     "output_type": "stream",
     "text": [
      "['cadeira', 'cafeteira', 'caneca', 'escumadeira', 'espanador', 'espátula', 'estante', 'frigideira', 'funil', 'halter', 'liquidificador', 'notebook', 'panela', 'peneira', 'playstation', 'rádio', 'smartphone', 'sofá', 'tablet', 'teclado', 'televisão', 'vassoura', 'webcam', 'xbox']\n"
     ]
    }
   ],
   "source": [
    "print(união)"
   ]
  },
  {
   "cell_type": "markdown",
   "id": "d1c0a48c",
   "metadata": {},
   "source": [
    "**2) Quais produtos são oferecidos em todas as lojas?**"
   ]
  },
  {
   "cell_type": "code",
   "execution_count": 8,
   "id": "06c6f8a7",
   "metadata": {},
   "outputs": [
    {
     "name": "stdout",
     "output_type": "stream",
     "text": [
      "{'playstation', 'televisão', 'escumadeira', 'frigideira'}\n"
     ]
    }
   ],
   "source": [
    "print (presentes.intersection(loja1). intersection(loja2). intersection(loja3). intersection(loja4))"
   ]
  },
  {
   "cell_type": "markdown",
   "id": "4466f5e7",
   "metadata": {},
   "source": [
    "**3) Quais produtos não são encontrados em nenhuma loja?**"
   ]
  },
  {
   "cell_type": "code",
   "execution_count": 9,
   "id": "96553d39",
   "metadata": {},
   "outputs": [
    {
     "name": "stdout",
     "output_type": "stream",
     "text": [
      "{'faqueiro'}\n"
     ]
    }
   ],
   "source": [
    "print (presentes.difference(loja1).difference(loja2).difference(loja3).difference(loja4))"
   ]
  },
  {
   "cell_type": "markdown",
   "id": "a59043fe",
   "metadata": {},
   "source": [
    "**4) Quais produtos são exclusivos de cada loja?**"
   ]
  },
  {
   "cell_type": "code",
   "execution_count": 10,
   "id": "581f878f",
   "metadata": {},
   "outputs": [],
   "source": [
    "l1 = loja1.difference(loja2). difference(loja3). difference(loja4)"
   ]
  },
  {
   "cell_type": "code",
   "execution_count": 11,
   "id": "ae1bc800",
   "metadata": {},
   "outputs": [
    {
     "name": "stdout",
     "output_type": "stream",
     "text": [
      "{'cadeira', 'panela', 'liquidificador', 'notebook'}\n"
     ]
    }
   ],
   "source": [
    "print(l1)"
   ]
  },
  {
   "cell_type": "code",
   "execution_count": 12,
   "id": "08304033",
   "metadata": {},
   "outputs": [],
   "source": [
    "l2 = loja2.difference(loja1). difference(loja3). difference(loja4)"
   ]
  },
  {
   "cell_type": "code",
   "execution_count": 13,
   "id": "92d3b507",
   "metadata": {},
   "outputs": [
    {
     "name": "stdout",
     "output_type": "stream",
     "text": [
      "{'webcam', 'tablet', 'peneira'}\n"
     ]
    }
   ],
   "source": [
    "print(l2)"
   ]
  },
  {
   "cell_type": "code",
   "execution_count": 14,
   "id": "2a22189a",
   "metadata": {},
   "outputs": [],
   "source": [
    "l3 = loja3. difference(loja1). difference(loja2). difference(loja4)"
   ]
  },
  {
   "cell_type": "code",
   "execution_count": 15,
   "id": "b893b262",
   "metadata": {},
   "outputs": [
    {
     "name": "stdout",
     "output_type": "stream",
     "text": [
      "set()\n"
     ]
    }
   ],
   "source": [
    "print(l3)"
   ]
  },
  {
   "cell_type": "code",
   "execution_count": 16,
   "id": "391ba3a5",
   "metadata": {},
   "outputs": [],
   "source": [
    "l4 = loja4. difference(loja1). difference(loja2). difference(loja3)"
   ]
  },
  {
   "cell_type": "code",
   "execution_count": 17,
   "id": "2b1fa7b7",
   "metadata": {},
   "outputs": [
    {
     "name": "stdout",
     "output_type": "stream",
     "text": [
      "set()\n"
     ]
    }
   ],
   "source": [
    "print(l4)"
   ]
  },
  {
   "cell_type": "markdown",
   "id": "067c5fe1",
   "metadata": {},
   "source": [
    "**5) Se for possível escolher duas lojas pra cobrir um número maior de presentes, qual é o maior número de presentes que é possível cobrir dessa forma?** \n"
   ]
  },
  {
   "cell_type": "code",
   "execution_count": 18,
   "id": "c33e7880",
   "metadata": {},
   "outputs": [],
   "source": [
    "l12 = (len(loja1.union(loja2)))"
   ]
  },
  {
   "cell_type": "code",
   "execution_count": 19,
   "id": "c154b015",
   "metadata": {},
   "outputs": [
    {
     "name": "stdout",
     "output_type": "stream",
     "text": [
      "22\n"
     ]
    }
   ],
   "source": [
    "print(l12)"
   ]
  },
  {
   "cell_type": "code",
   "execution_count": 20,
   "id": "119bee99",
   "metadata": {},
   "outputs": [],
   "source": [
    "l13 = (len(loja1.union(loja3)))"
   ]
  },
  {
   "cell_type": "code",
   "execution_count": 21,
   "id": "31ce83a2",
   "metadata": {},
   "outputs": [
    {
     "name": "stdout",
     "output_type": "stream",
     "text": [
      "21\n"
     ]
    }
   ],
   "source": [
    "print(l13)"
   ]
  },
  {
   "cell_type": "code",
   "execution_count": 22,
   "id": "9f872756",
   "metadata": {},
   "outputs": [],
   "source": [
    "l14 = (len(loja1.union(loja4)))"
   ]
  },
  {
   "cell_type": "code",
   "execution_count": 23,
   "id": "0b069b7f",
   "metadata": {},
   "outputs": [
    {
     "name": "stdout",
     "output_type": "stream",
     "text": [
      "21\n"
     ]
    }
   ],
   "source": [
    "print(l14)"
   ]
  },
  {
   "cell_type": "code",
   "execution_count": 24,
   "id": "9a6a5d7b",
   "metadata": {},
   "outputs": [],
   "source": [
    "l23 = (len(loja2.union(loja3)))"
   ]
  },
  {
   "cell_type": "code",
   "execution_count": 25,
   "id": "e777c97a",
   "metadata": {},
   "outputs": [
    {
     "name": "stdout",
     "output_type": "stream",
     "text": [
      "20\n"
     ]
    }
   ],
   "source": [
    "print(l23)"
   ]
  },
  {
   "cell_type": "code",
   "execution_count": 26,
   "id": "820efab4",
   "metadata": {},
   "outputs": [],
   "source": [
    "l24 = (len(loja2.union(loja4)))"
   ]
  },
  {
   "cell_type": "code",
   "execution_count": 27,
   "id": "eba8df24",
   "metadata": {},
   "outputs": [
    {
     "name": "stdout",
     "output_type": "stream",
     "text": [
      "20\n"
     ]
    }
   ],
   "source": [
    "print(l24)"
   ]
  },
  {
   "cell_type": "code",
   "execution_count": 28,
   "id": "5e26b688",
   "metadata": {},
   "outputs": [],
   "source": [
    "l32 = (len(loja3.union(loja2)))"
   ]
  },
  {
   "cell_type": "code",
   "execution_count": 29,
   "id": "100ec73e",
   "metadata": {},
   "outputs": [
    {
     "name": "stdout",
     "output_type": "stream",
     "text": [
      "20\n"
     ]
    }
   ],
   "source": [
    "print(l32)"
   ]
  },
  {
   "cell_type": "code",
   "execution_count": 30,
   "id": "ae21f931",
   "metadata": {},
   "outputs": [],
   "source": [
    "l34 =(len(loja3.union(loja4)))"
   ]
  },
  {
   "cell_type": "code",
   "execution_count": 31,
   "id": "21d240a0",
   "metadata": {},
   "outputs": [
    {
     "name": "stdout",
     "output_type": "stream",
     "text": [
      "15\n"
     ]
    }
   ],
   "source": [
    "print(l34)"
   ]
  },
  {
   "cell_type": "markdown",
   "id": "843fe7d2",
   "metadata": {},
   "source": [
    "**O maior número de presentes é:**"
   ]
  },
  {
   "cell_type": "code",
   "execution_count": 32,
   "id": "94d34652",
   "metadata": {},
   "outputs": [
    {
     "name": "stdout",
     "output_type": "stream",
     "text": [
      "22\n"
     ]
    }
   ],
   "source": [
    "print(max(l12,l13,l14,l23,l24,l32,l34))"
   ]
  },
  {
   "cell_type": "code",
   "execution_count": null,
   "id": "33b42f72",
   "metadata": {},
   "outputs": [],
   "source": []
  }
 ],
 "metadata": {
  "kernelspec": {
   "display_name": "Python 3",
   "language": "python",
   "name": "python3"
  },
  "language_info": {
   "codemirror_mode": {
    "name": "ipython",
    "version": 3
   },
   "file_extension": ".py",
   "mimetype": "text/x-python",
   "name": "python",
   "nbconvert_exporter": "python",
   "pygments_lexer": "ipython3",
   "version": "3.8.8"
  }
 },
 "nbformat": 4,
 "nbformat_minor": 5
}
