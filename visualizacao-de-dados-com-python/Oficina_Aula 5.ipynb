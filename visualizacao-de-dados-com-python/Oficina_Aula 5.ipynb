{
 "cells": [
  {
   "cell_type": "markdown",
   "id": "1b04ba1e",
   "metadata": {},
   "source": [
    "Instalei o **Elasticsearch e o Kibana** e carreguei os dados de amostra Sample flight data disponibilizados pelo Kibana em Sample data. Depois executei os Dashboards/gráficos abaixo para responder as perguntas da oficina da Aula 5."
   ]
  },
  {
   "cell_type": "markdown",
   "id": "7b9f402d",
   "metadata": {},
   "source": [
    "![](tabelaum.jpg)"
   ]
  },
  {
   "cell_type": "markdown",
   "id": "a254b1a7",
   "metadata": {},
   "source": [
    "**1º Painel:**\n",
    "A quantidade de voos que partiram de cada país (OriginCountry);\n",
    "\n",
    "no painel 1, coloque para exibir os dados do último ano;"
   ]
  },
  {
   "cell_type": "markdown",
   "id": "5483f4d0",
   "metadata": {},
   "source": [
    "![](telaum.jpg)"
   ]
  },
  {
   "cell_type": "code",
   "execution_count": null,
   "id": "e00e450b",
   "metadata": {},
   "outputs": [],
   "source": []
  },
  {
   "cell_type": "markdown",
   "id": "4a30487a",
   "metadata": {},
   "source": [
    "**2º Painel:**\n",
    "A média de minutos de atraso em voos (FlightDelayMin) por companhia de voo (Carrier); \n",
    "\n",
    "no Painel 2, coloque os dados dos últimos 30 dias;"
   ]
  },
  {
   "cell_type": "markdown",
   "id": "d48daa20",
   "metadata": {},
   "source": [
    "![](teladois.jpg)"
   ]
  },
  {
   "cell_type": "code",
   "execution_count": null,
   "id": "44404fd6",
   "metadata": {},
   "outputs": [],
   "source": []
  },
  {
   "cell_type": "markdown",
   "id": "911b29ee",
   "metadata": {},
   "source": [
    "**3º Painel:**\n",
    "A proporção dos diferentes tipos de clima do local de partida (OriginWeather) e, destes, a proporção dos voos cancelados (Cancelled); \n",
    "\n",
    "no painel 3, coloque os dados do último ano."
   ]
  },
  {
   "cell_type": "markdown",
   "id": "02cd09f3",
   "metadata": {},
   "source": [
    "![](telatres.jpg)"
   ]
  },
  {
   "cell_type": "markdown",
   "id": "8e7f2c3d",
   "metadata": {},
   "source": [
    "**4º Painel:** Crie um último painel de \"Text” (na parte inferior direita da janela que abre ao selecionar “Create Panel”). Nele, digite as respostas que você anotou no passo anterior."
   ]
  },
  {
   "cell_type": "markdown",
   "id": "8f547b3f",
   "metadata": {},
   "source": [
    "**Analisando as visualizações que você acabou de criar, anote em uma folha (ou num documento de texto do seu computador) as repostas das seguintes perguntas:**"
   ]
  },
  {
   "cell_type": "markdown",
   "id": "1b0056db",
   "metadata": {},
   "source": [
    "![](telaquatro.jpg)"
   ]
  },
  {
   "cell_type": "markdown",
   "id": "63cffd55",
   "metadata": {},
   "source": [
    "**Etapa final: Tire um print da sua tela com seus 4 últimos painéis criados.**"
   ]
  },
  {
   "cell_type": "markdown",
   "id": "9f96cf93",
   "metadata": {},
   "source": [
    "![](telageral.jpg)"
   ]
  },
  {
   "cell_type": "code",
   "execution_count": null,
   "id": "67b901da",
   "metadata": {},
   "outputs": [],
   "source": []
  },
  {
   "cell_type": "code",
   "execution_count": null,
   "id": "3f023a5c",
   "metadata": {},
   "outputs": [],
   "source": []
  }
 ],
 "metadata": {
  "kernelspec": {
   "display_name": "Python 3",
   "language": "python",
   "name": "python3"
  },
  "language_info": {
   "codemirror_mode": {
    "name": "ipython",
    "version": 3
   },
   "file_extension": ".py",
   "mimetype": "text/x-python",
   "name": "python",
   "nbconvert_exporter": "python",
   "pygments_lexer": "ipython3",
   "version": "3.8.8"
  }
 },
 "nbformat": 4,
 "nbformat_minor": 5
}
